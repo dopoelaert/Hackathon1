{
 "cells": [
  {
   "cell_type": "code",
   "execution_count": null,
   "metadata": {},
   "outputs": [],
   "source": []
  },
  {
   "cell_type": "markdown",
   "metadata": {},
   "source": [
    "# Hackathon 1: descriptive statistics, estimation and bootstrapping\n",
    "\n",
    "This project illustrates the course LEPL1109 with an industrial applications of statistics. You will analyse the performance of wind farms located in the Walloon Brabant near Beauvechain and in the high Fens, close to Elsenborn. Each wind farm exploits 8 wind turbines. The kinetic power, noted Pk, (in watt) of one wind turbine is calculated with the formula \n",
    "\n",
    "Pk (W) = 0.5 x Rho x S x V^3\n",
    "\n",
    "Where \n",
    "\n",
    "S   : is the surface of the circle in square meters with a radius equal to the length of blades (32 m).\n",
    "Rho : is the air density (“masse volumique”). We consider here an average value of 1.2 kg/m^3\n",
    "V   : is the speed of wind in m/s.\n",
    "\n",
    "According to the Betz limit, only 59.3% of the kinetic energy from wind can be used to spin the turbine and generate electricity. In reality, turbines cannot reach the Betz limit, and the efficiency is estimated to 42% of the kinetic power. One wind turbine generates an electric power Pe = 0.42 x Pk. \n",
    "\n",
    "The wind turbins are stopped if the wind speed is above 90 km/h.\n",
    "\n",
    "The file “BeauvechainWind.csv” and “Elsenborn.csv” contains the average daily wind speeds, measured in km/h, at Beauvechain and  Elsenborn (source www. https://www.ecad.eu/)\n",
    "\n",
    "FILE FORMAT (MISSING VALUE CODE IS -9999):\n",
    "01-06 SOUID: Source identifier\n",
    "08-15 DATE : Date YYYYMMDD\n",
    "17-21 FG   : wind speed in 0.1 m/s\n",
    "23-27 Q_FG : Quality code for FG (0='valid'; 1='suspect'; 9='missing')\n",
    "\n",
    "\n",
    "## Report content\n",
    "\n",
    "•\tGrades are granted to the members whose names are in the Jupyter notebook. If your name doesn’t appear on the top of the notebook, you’ll get a 0, even though you are in a group on Moodle.\n",
    "\n",
    "•\tThe jupyter notebook must be compiled with printed results and next submitted via moodle. The absence of compiled results (or non-printed values) leads to a lower grade.\n",
    "\n",
    "## Report submission\n",
    "\n",
    "•\tDeadline, see moodle website. Submission after the deadline will not be accepted.\n",
    "\n",
    "•\tTo submit your report, go to the section “APP” on Moodle and the subsection “Soumission du rapport”. You can upload your work there. Once you are sure that it is your final version, click the button “Envoyer le devoir”. It is important that you don’t forget to click on this button ! \n",
    "\n",
    "•\tReports that have not been uploaded through Moodle will not be corrected.\n",
    "\n",
    "\n",
    "## Names and Noma of participants:\n",
    "\n",
    "Part. 1: Vincent Dieuzeide 6298-2000\n",
    "\n",
    "Part. 2: Jeanne Crevits 2561-2000\n",
    "\n",
    "Part. 3: Dorine Poelaert 2294-2000\n",
    "\n",
    "Part. 4: Valentine Delaere 4253-2000\n",
    "\n",
    "Part. 5:\n"
   ]
  },
  {
   "cell_type": "markdown",
   "metadata": {},
   "source": [
    "------------------------------------------------------------------------------------------------------\n",
    "1.\tWrite a function computing the electric power capacity (in Mega Watts = 10^6 W), for the two wind farms using wind data from the 1/1/2017 to the 1/1/2021\n",
    "\n",
    "•\tDo not forget to set the production to zero if the wind speed is above 90 km. \n",
    "\n",
    "•\tTake care to converts units.\n",
    "\n",
    "•\tRemove all days with missing data (error code 1 or 9) for Beauvechain or Elsenborn\n",
    "\n",
    "------------------------------------------------------------------------------------------------------"
   ]
  },
  {
   "cell_type": "code",
   "execution_count": 1,
   "metadata": {},
   "outputs": [],
   "source": [
    "import csv;\n",
    "import matplotlib.pyplot as plt;\n",
    "import numpy as np;"
   ]
  },
  {
   "cell_type": "code",
   "execution_count": 2,
   "metadata": {},
   "outputs": [],
   "source": [
    "def data1_2(nomduparc1_csv,nomduparc2_csv):\n",
    "    f= open (nomduparc1_csv)\n",
    "    g= open (nomduparc2_csv)\n",
    "    myReader1 = csv.reader(f)\n",
    "    myReader2 = csv.reader(g)\n",
    "    Pui_elec_watt_eol1=[]\n",
    "    Pui_elec_watt_eol2=[]\n",
    "    dict_date = {}\n",
    "\n",
    "    next(myReader1) # On skip la ligne 1 qui contient les noms de colonnes\n",
    "    for row in myReader1:\n",
    "        if 2017 <= int(row[1].strip()[:4]) <= 2020:\n",
    "                if int(row[3].strip())==0:\n",
    "                     if int(row[2].strip())<= 90:\n",
    "                        dict_date[row[1].strip()] = int(row[2].strip())#On stock dans un dictionnaire les dates valident de Beauvechain pour \n",
    "                                                                       #les  comparer à celle de Elsenborn et prendre seulement celle en commun\n",
    "                                                                       #(Demandé par le prof au CM4)\n",
    "    next(myReader2) # On skip la ligne 1\n",
    "    for row2 in myReader2:\n",
    "        if 2017 <= int(row2[1].strip()[:4]) <= 2020:\n",
    "            if int(row2[3].strip())==0:\n",
    "                if int(row2[2].strip())<= 90:\n",
    "                    if dict_date.get(row2[1].strip()):\n",
    "                        \n",
    "                        Pui_elec_watt_eol1.append((0.5*32*1.2*(dict_date[row2[1].strip()]*(1/3.6))**3)*0.42*8/10**6)\n",
    "                        Pui_elec_watt_eol2.append((0.5*32*1.2*(int(row2[2].strip())*(1/3.6))**3)*0.42*8/10**6)\n",
    "                        \n",
    "    return [Pui_elec_watt_eol1,Pui_elec_watt_eol2]\n",
    "\n",
    "def calculate_wind_power(pui):\n",
    "    sum=0\n",
    "    for i in pui:\n",
    "        sum+=i\n",
    "    return sum       \n",
    "    "
   ]
  },
  {
   "cell_type": "code",
   "execution_count": 3,
   "metadata": {},
   "outputs": [
    {
     "name": "stdout",
     "output_type": "stream",
     "text": [
      "Capacité de puissance électrique à Beauvechain: 181.2460090864193\n",
      "Capacité de puissance électrique à Eisenborn: 69.0701497283949\n"
     ]
    }
   ],
   "source": [
    "\n",
    "print(\"Capacité de puissance électrique à Beauvechain:\",calculate_wind_power(data1_2(r\"Beauvechain.csv\",r\"Elsenborn.csv\")[0]))\n",
    "print(\"Capacité de puissance électrique à Eisenborn:\",calculate_wind_power(data1_2(r\"Beauvechain.csv\",r\"Elsenborn.csv\")[1]))"
   ]
  },
  {
   "cell_type": "markdown",
   "metadata": {},
   "source": [
    "Comment briefly your results\n",
    "\n"
   ]
  },
  {
   "cell_type": "markdown",
   "metadata": {},
   "source": [
    "On voit que la capacité d'énergie électrique récoltée à Beauvechain est supérieure à celle récoltée à Eisenborn.\n",
    "On peut supposer que cela est du à un nombre plus important de mesure éronnée à Eisenborn."
   ]
  },
  {
   "cell_type": "markdown",
   "metadata": {},
   "source": []
  },
  {
   "cell_type": "markdown",
   "metadata": {},
   "source": [
    "------------------------------------------------------------------------------------------------------------------------\n",
    "\n",
    "2.\tPlot histograms and box plots of electric power capacity (MW) from the 1/1/2017 to the 1/1/2021 (both sites). \n",
    "\n",
    "------------------------------------------------------------------------------------------------------------------------"
   ]
  },
  {
   "cell_type": "code",
   "execution_count": 4,
   "metadata": {},
   "outputs": [
    {
     "data": {
      "image/png": "[encoded data removed]",
      "text/plain": [
       "<Figure size 432x288 with 2 Axes>"
      ]
     },
     "metadata": {
      "needs_background": "light"
     },
     "output_type": "display_data"
    },
    {
     "data": {
      "image/png": "[encoded data removed]",
      "text/plain": [
       "<Figure size 432x288 with 2 Axes>"
      ]
     },
     "metadata": {
      "needs_background": "light"
     },
     "output_type": "display_data"
    }
   ],
   "source": [
    "def plot_hist_box(data,nomduparc):\n",
    "  \n",
    "\n",
    "    fig, axs = plt.subplots(2)\n",
    "    fig.suptitle(nomduparc)\n",
    "    axs[0].hist(data,bins=30)\n",
    "    axs[0].set_title('Histograms  of electric power capacity (MW)  from the 1/1/2017 to the 1/1/2021')\n",
    "    \n",
    "    axs[1].boxplot(data)\n",
    "    axs[1].set_title(\"box plots of electric power capacity (MW) from the 1/1/2017 to the 1/1/2021\")\n",
    "    plt.subplots_adjust(left=0.125,bottom=0, right=0.9, top=0.8, wspace=0.5, hspace=0.8)\n",
    "    axs[0].set(xlabel='Electric power Capapcite/day[MW]',ylabel='Number of day')\n",
    "\n",
    "\n",
    "    \n",
    "\n",
    "\n",
    "\n",
    "\n",
    "\n",
    "plot_hist_box(data1_2(\"Beauvechain.csv\",\"Elsenborn.csv\")[0],\"Beauvechain\")\n",
    "plot_hist_box(data1_2(\"Beauvechain.csv\",\"Elsenborn.csv\")[1],\"Elsenborn\")\n"
   ]
  },
  {
   "cell_type": "markdown",
   "metadata": {},
   "source": [
    "------------------------------------------------------------------------------------------------------\n",
    "\n",
    "3.\tCompare the following statistics of both sites and draw a first conclusions\n",
    "\n",
    "•\tAverage and median powers for each farm (MW)\n",
    "\n",
    "•\tStandard deviations of powers, for each farm (MW)\n",
    "\n",
    "•\t5% and 95% percentiles of powers, for each farm (MW)\n",
    "\n",
    "The average and standard deviation of the total power capacities (Beauvechain + Elsenborn).\n",
    "\n",
    "------------------------------------------------------------------------------------------------------"
   ]
  },
  {
   "cell_type": "code",
   "execution_count": 5,
   "metadata": {},
   "outputs": [],
   "source": [
    "\n",
    "def mean(datas):\n",
    "    return np.mean(datas)\n",
    "def deviations(datas):\n",
    "    return np.std(datas)\n",
    "def quantile(datas,q):\n",
    "    return np.quantile(datas,q)\n",
    "def average_commun(datas1,datas2):\n",
    "    add=[]\n",
    "    beauv=datas1\n",
    "    elsen=datas2\n",
    "    for i in range(len(beauv)):\n",
    "        add.append(beauv[i]+elsen[i])\n",
    "        i+=1\n",
    "        \n",
    "    return np.mean(add)\n",
    "def deviation_commun(datas1,datas2):\n",
    "    add=[]\n",
    "    beauv=datas1\n",
    "    elsen=datas2\n",
    "    for i in range(len(beauv)):\n",
    "        add.append(beauv[i]+elsen[i])\n",
    "        i+=1\n",
    "    return np.std(add)\n",
    "\n"
   ]
  },
  {
   "cell_type": "code",
   "execution_count": 6,
   "metadata": {},
   "outputs": [
    {
     "name": "stdout",
     "output_type": "stream",
     "text": [
      "Moyenne de la puissance électrique produite à Beauvechain: 0.13048668760721366\n",
      "Moyenne de la puissance électrique produite à ElsenBorn: 0.04972652968206987\n",
      "Médiane de la puissance électrique produite à Beauvechain: 0.04969066666666669\n",
      "Médiane de la puissance électrique produite à ElsenBorn: 0.016823506172839505\n",
      "Déviation standard de la puissance électrique produite à Beauvechain: 0.18416696718630038\n",
      "Déviation standard de la puissance électrique produite à ElsenBorn: 0.07470408855952654\n",
      "Moyenne de la puissance électrique produite dans les 2 stations: 0.18021321728928352\n",
      "Déviation standard de la puissance électrique produite dans les 2 stations: 0.24584610382636113\n"
     ]
    }
   ],
   "source": [
    "print(\"Moyenne de la puissance électrique produite à Beauvechain:\",mean(data1_2(\"Beauvechain.csv\",\"Elsenborn.csv\")[0]))\n",
    "print(\"Moyenne de la puissance électrique produite à ElsenBorn:\",mean(data1_2(\"Beauvechain.csv\",\"Elsenborn.csv\")[1]))\n",
    "print(\"Médiane de la puissance électrique produite à Beauvechain:\",quantile(data1_2(\"Beauvechain.csv\",\"Elsenborn.csv\")[0],0.5))\n",
    "print(\"Médiane de la puissance électrique produite à ElsenBorn:\",quantile(data1_2(\"Beauvechain.csv\",\"Elsenborn.csv\")[1],0.5))\n",
    "print(\"Déviation standard de la puissance électrique produite à Beauvechain:\",deviations(data1_2(\"Beauvechain.csv\",\"Elsenborn.csv\")[0]))\n",
    "print(\"Déviation standard de la puissance électrique produite à ElsenBorn:\",deviations(data1_2(\"Beauvechain.csv\",\"Elsenborn.csv\")[1]))\n",
    "print(\"Moyenne de la puissance électrique produite dans les 2 stations:\",average_commun(data1_2(\"Beauvechain.csv\",\"Elsenborn.csv\")[0],data1_2(\"Beauvechain.csv\",\"Elsenborn.csv\")[1]))\n",
    "print(\"Déviation standard de la puissance électrique produite dans les 2 stations:\",deviation_commun(data1_2(\"Beauvechain.csv\",\"Elsenborn.csv\")[0],data1_2(\"Beauvechain.csv\",\"Elsenborn.csv\")[1]))"
   ]
  },
  {
   "cell_type": "markdown",
   "metadata": {},
   "source": [
    "Comment briefly your results\n",
    "\n"
   ]
  },
  {
   "cell_type": "code",
   "execution_count": 7,
   "metadata": {},
   "outputs": [
    {
     "ename": "SyntaxError",
     "evalue": "invalid syntax (Temp/ipykernel_48596/4181828490.py, line 1)",
     "output_type": "error",
     "traceback": [
      "\u001b[1;36m  File \u001b[1;32m\"C:\\Users\\Dorine\\AppData\\Local\\Temp/ipykernel_48596/4181828490.py\"\u001b[1;36m, line \u001b[1;32m1\u001b[0m\n\u001b[1;33m    On observe que la déviari\u001b[0m\n\u001b[1;37m       ^\u001b[0m\n\u001b[1;31mSyntaxError\u001b[0m\u001b[1;31m:\u001b[0m invalid syntax\n"
     ]
    }
   ],
   "source": [
    "On observe que la déviari"
   ]
  },
  {
   "cell_type": "markdown",
   "metadata": {},
   "source": [
    "\n",
    "------------------------------------------------------------------------------------------------------\n",
    "4.\tFit Gamma and Inverse Gaussian distributions to wind speeds (in Km/h) in Beauvechain and Elsenborn. Estimate their parameters by log-likelihood maximization (MLE). Which distribution is the best one? Compare the histograms of winds with the fitted pdf’s on the same plot.\n",
    "------------------------------------------------------------------------------------------------------"
   ]
  },
  {
   "cell_type": "code",
   "execution_count": 7,
   "metadata": {},
   "outputs": [],
   "source": [
    "# Code here, gamma distribution\n",
    "\n"
   ]
  },
  {
   "cell_type": "markdown",
   "metadata": {},
   "source": [
    "Comment briefly your results\n",
    "\n"
   ]
  },
  {
   "cell_type": "code",
   "execution_count": 8,
   "metadata": {},
   "outputs": [],
   "source": [
    "# Code here, inverse Gaussian\n",
    "\n"
   ]
  },
  {
   "cell_type": "markdown",
   "metadata": {},
   "source": [
    "Comment briefly your results\n"
   ]
  },
  {
   "cell_type": "markdown",
   "metadata": {},
   "source": [
    "------------------------------------------------------------------------------------------------------\n",
    "5.\tCompute numerically for both sites, the following statistics \n",
    "\n",
    "•\tExpected and median powers for each farm (MW)\n",
    "\n",
    "•\tStandard deviation of powers for each farm (MW)\n",
    "\n",
    "•\t5% and 95% percentiles of powers for each farm (MW)\n",
    "\n",
    "Use the best distributions fitted in Question 4 (not observed values)\n",
    "\n",
    "------------------------------------------------------------------------------------------------------"
   ]
  },
  {
   "cell_type": "code",
   "execution_count": 9,
   "metadata": {},
   "outputs": [],
   "source": [
    "# Code here\n",
    "\n"
   ]
  },
  {
   "cell_type": "markdown",
   "metadata": {},
   "source": [
    "Comment briefly your results\n",
    "\n"
   ]
  },
  {
   "cell_type": "markdown",
   "metadata": {},
   "source": [
    "------------------------------------------------------------------------------------------------------\n",
    "\n",
    "6.\tSame question as Q.4 but this time, you fit the best distribution by the methods of moments MM, (in Python). Compare parameter estimates and plot pdf’s obtained by MLE and MM for both wind farms.\n",
    "\n",
    "------------------------------------------------------------------------------------------------------"
   ]
  },
  {
   "cell_type": "code",
   "execution_count": 10,
   "metadata": {
    "scrolled": true
   },
   "outputs": [],
   "source": [
    "#code here\n",
    "\n"
   ]
  },
  {
   "cell_type": "markdown",
   "metadata": {},
   "source": [
    "------------------------------------------------------------------------------------------------------\n",
    "\n",
    "7.\tBootstrap 1000 times a sample of 500 daily speeds of wind for both wind farms and compute a 5% confidence interval for parameter(s) estimates for the best distribution of Question 4) modelling winds in Beauvechain. How do you interpret the results\n",
    "\n",
    "------------------------------------------------------------------------------------------------------"
   ]
  },
  {
   "cell_type": "code",
   "execution_count": 11,
   "metadata": {},
   "outputs": [],
   "source": [
    "#code here\n",
    "\n"
   ]
  },
  {
   "cell_type": "markdown",
   "metadata": {},
   "source": [
    "Comment briefly your results\n",
    "\n"
   ]
  },
  {
   "cell_type": "markdown",
   "metadata": {},
   "source": [
    "------------------------------------------------------------------------------------------------------\n",
    "\n",
    "8.\tLet us denote by X the wind speed observed at Beauvechain on a day of the year. The winds observed over 30 days are denoted by (X1,…,X30). They are realizations of X, a random variable with the distribution fitted in Question 4. If M=max{ X1,…,X30},  \n",
    "\n",
    "•\tfind the statistical law of M (equation requested, hint use the cdf of X) \n",
    "\n",
    "•\tplot the pdf and cdf of M. \n",
    "\n",
    "•\tDetermine the wind value, p5, such that  P(M>p5)=95%.\n",
    "\n",
    "\n",
    "------------------------------------------------------------------------------------------------------"
   ]
  },
  {
   "cell_type": "markdown",
   "metadata": {},
   "source": [
    "Comment briefly your results\n",
    "\n"
   ]
  },
  {
   "cell_type": "code",
   "execution_count": 12,
   "metadata": {},
   "outputs": [],
   "source": [
    "# Code here\n",
    "\n"
   ]
  }
 ],
 "metadata": {
  "kernelspec": {
   "display_name": "Python 3 (ipykernel)",
   "language": "python",
   "name": "python3"
  },
  "language_info": {
   "codemirror_mode": {
    "name": "ipython",
    "version": 3
   },
   "file_extension": ".py",
   "mimetype": "text/x-python",
   "name": "python",
   "nbconvert_exporter": "python",
   "pygments_lexer": "ipython3",
   "version": "3.9.7"
  }
 },
 "nbformat": 4,
 "nbformat_minor": 4
}
